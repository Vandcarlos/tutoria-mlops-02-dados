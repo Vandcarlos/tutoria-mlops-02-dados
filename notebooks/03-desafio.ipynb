{
 "cells": [
  {
   "cell_type": "markdown",
   "id": "e54ba0a8-ea33-4274-b227-52e3597b120d",
   "metadata": {
    "scrolled": true
   },
   "source": [
    "# Desafio"
   ]
  },
  {
   "cell_type": "markdown",
   "id": "7ce7f6de-842a-4f65-8f60-fff22cd5ae65",
   "metadata": {},
   "source": [
    "## Enunciado\n",
    "\n",
    "🧩 Desafio: ETL de Dados Públicos\n",
    "\n",
    "🎯 Objetivo Construir um pipeline ETL no Apache Airflow que:\n",
    "\n",
    "Extrai dados de algum dataset público\n",
    "\n",
    "Transforma os dados limpando, filtrando e unificando informações.\n",
    "\n",
    "Carrega o resultado em um banco de dados PostgreSQL (ou salva como Parquet).\n",
    "\n",
    "Agenda a execução diária do pipeline (simulando ingestão incremental)."
   ]
  },
  {
   "cell_type": "markdown",
   "id": "02a763d7-d98c-4eb9-a812-ef9494b164c8",
   "metadata": {},
   "source": [
    "### Imports"
   ]
  },
  {
   "cell_type": "code",
   "execution_count": 1,
   "id": "5d8297b2-1576-4099-9a89-4fdc6e3b15d9",
   "metadata": {},
   "outputs": [
    {
     "name": "stderr",
     "output_type": "stream",
     "text": [
      "/Users/vand/.pyenv/versions/3.11.9/lib/python3.11/site-packages/tqdm/auto.py:21: TqdmWarning: IProgress not found. Please update jupyter and ipywidgets. See https://ipywidgets.readthedocs.io/en/stable/user_install.html\n",
      "  from .autonotebook import tqdm as notebook_tqdm\n"
     ]
    }
   ],
   "source": [
    "import mlflow\n",
    "import kagglehub\n",
    "import os\n",
    "\n",
    "import pandas as pd\n",
    "\n",
    "from sklearn.preprocessing import MinMaxScaler, StandardScaler"
   ]
  },
  {
   "cell_type": "markdown",
   "id": "72fe6e63-8851-4b69-a6c6-71e2095a8456",
   "metadata": {},
   "source": [
    "### Constants"
   ]
  },
  {
   "cell_type": "code",
   "execution_count": 2,
   "id": "b5803455-68d8-46af-b737-a2e938e095a4",
   "metadata": {},
   "outputs": [],
   "source": [
    "KAGGLE_HUB_DATASET=\"ahmadrazakashif/bmw-worldwide-sales-records-20102024\"\n",
    "MLFLOW_EXPERIMENT_NAME=\"etl_public_dataset\"\n",
    "MLFLOW_RUN_NAME=\"jupyter_run\""
   ]
  },
  {
   "cell_type": "markdown",
   "id": "dc768add-619a-4f21-8056-2c9298e1c429",
   "metadata": {},
   "source": [
    "### Configurar e iniciar o mlflow"
   ]
  },
  {
   "cell_type": "code",
   "execution_count": 3,
   "id": "644c0ae2-8b1d-4325-af6f-a4502817bc40",
   "metadata": {},
   "outputs": [
    {
     "data": {
      "text/plain": [
       "<ActiveRun: >"
      ]
     },
     "execution_count": 3,
     "metadata": {},
     "output_type": "execute_result"
    }
   ],
   "source": [
    "mlflow.set_experiment(MLFLOW_EXPERIMENT_NAME)\n",
    "mlflow.start_run(run_name=MLFLOW_RUN_NAME)\n"
   ]
  },
  {
   "cell_type": "markdown",
   "id": "5a70561c-c27e-4f58-8115-c6bebab0b2f5",
   "metadata": {},
   "source": [
    "### Utilitários do mlflow"
   ]
  },
  {
   "cell_type": "code",
   "execution_count": 4,
   "id": "2b5d584a-cd96-4e06-8088-f41fa7c2a9ef",
   "metadata": {},
   "outputs": [],
   "source": [
    "artifacts_path = \"artifacts\"\n",
    "os.makedirs(artifacts_path, exist_ok=True)  # cria se não existir\n",
    "\n",
    "def log_artifact(df: pd.DataFrame, name: str):\n",
    "    path = os.path.join(artifacts_path, f\"{name}.parquet\")\n",
    "    df.to_parquet(path, index=False)\n",
    "    mlflow.log_artifact(path, artifact_path=\"data\")"
   ]
  },
  {
   "cell_type": "markdown",
   "id": "613850c5-7c23-4698-b7cb-d99f72c4010d",
   "metadata": {},
   "source": [
    "### Baixar data set"
   ]
  },
  {
   "cell_type": "code",
   "execution_count": 5,
   "id": "61711cbe-391d-4a51-8786-9beef7ee6e18",
   "metadata": {},
   "outputs": [
    {
     "name": "stdout",
     "output_type": "stream",
     "text": [
      "Path do dataset: /Users/vand/.cache/kagglehub/datasets/ahmadrazakashif/bmw-worldwide-sales-records-20102024/versions/1\n",
      "Arquivos do dataset: ['BMW sales data (2010-2024) (1).csv']\n",
      "Path do csv do dataset: /Users/vand/.cache/kagglehub/datasets/ahmadrazakashif/bmw-worldwide-sales-records-20102024/versions/1/BMW sales data (2010-2024) (1).csv\n"
     ]
    }
   ],
   "source": [
    "mlflow.log_param(\"dataset\", KAGGLE_HUB_DATASET)\n",
    "dataset_path = kagglehub.dataset_download(KAGGLE_HUB_DATASET)\n",
    "print(\"Path do dataset:\", dataset_path)\n",
    "print(\"Arquivos do dataset:\", os.listdir(dataset_path))\n",
    "dataset_csv_path = os.path.join(dataset_path, os.listdir(dataset_path)[0])\n",
    "print(\"Path do csv do dataset:\", dataset_csv_path)"
   ]
  },
  {
   "cell_type": "markdown",
   "id": "6c30ed10-c66c-46f9-ad2e-11e036fc8f3b",
   "metadata": {},
   "source": [
    "### Carrega dataset"
   ]
  },
  {
   "cell_type": "code",
   "execution_count": 6,
   "id": "c5b39134-ab0f-4401-af58-dabbf9928f8e",
   "metadata": {},
   "outputs": [],
   "source": [
    "df_raw = pd.read_csv(dataset_csv_path, engine=\"python\")\n",
    "df_raw.head()\n",
    "\n",
    "log_artifact(df_raw, \"raw\")"
   ]
  },
  {
   "cell_type": "markdown",
   "id": "87914d27-d7c1-4b75-abc8-5c8c2398b559",
   "metadata": {},
   "source": [
    "### Infos do dataset?"
   ]
  },
  {
   "cell_type": "code",
   "execution_count": 7,
   "id": "782a0337-b69d-48a3-b3a3-3e264a6a53cb",
   "metadata": {},
   "outputs": [
    {
     "name": "stdout",
     "output_type": "stream",
     "text": [
      "<class 'pandas.core.frame.DataFrame'>\n",
      "RangeIndex: 50000 entries, 0 to 49999\n",
      "Data columns (total 11 columns):\n",
      " #   Column                Non-Null Count  Dtype  \n",
      "---  ------                --------------  -----  \n",
      " 0   Model                 50000 non-null  object \n",
      " 1   Year                  50000 non-null  int64  \n",
      " 2   Region                50000 non-null  object \n",
      " 3   Color                 50000 non-null  object \n",
      " 4   Fuel_Type             50000 non-null  object \n",
      " 5   Transmission          50000 non-null  object \n",
      " 6   Engine_Size_L         50000 non-null  float64\n",
      " 7   Mileage_KM            50000 non-null  int64  \n",
      " 8   Price_USD             50000 non-null  int64  \n",
      " 9   Sales_Volume          50000 non-null  int64  \n",
      " 10  Sales_Classification  50000 non-null  object \n",
      "dtypes: float64(1), int64(4), object(6)\n",
      "memory usage: 4.2+ MB\n"
     ]
    },
    {
     "data": {
      "text/plain": [
       "'Dimensões:'"
      ]
     },
     "metadata": {},
     "output_type": "display_data"
    },
    {
     "data": {
      "text/plain": [
       "(50000, 11)"
      ]
     },
     "metadata": {},
     "output_type": "display_data"
    },
    {
     "data": {
      "text/html": [
       "<div>\n",
       "<style scoped>\n",
       "    .dataframe tbody tr th:only-of-type {\n",
       "        vertical-align: middle;\n",
       "    }\n",
       "\n",
       "    .dataframe tbody tr th {\n",
       "        vertical-align: top;\n",
       "    }\n",
       "\n",
       "    .dataframe thead th {\n",
       "        text-align: right;\n",
       "    }\n",
       "</style>\n",
       "<table border=\"1\" class=\"dataframe\">\n",
       "  <thead>\n",
       "    <tr style=\"text-align: right;\">\n",
       "      <th></th>\n",
       "      <th>Year</th>\n",
       "      <th>Engine_Size_L</th>\n",
       "      <th>Mileage_KM</th>\n",
       "      <th>Price_USD</th>\n",
       "      <th>Sales_Volume</th>\n",
       "    </tr>\n",
       "  </thead>\n",
       "  <tbody>\n",
       "    <tr>\n",
       "      <th>count</th>\n",
       "      <td>50000.000000</td>\n",
       "      <td>50000.000000</td>\n",
       "      <td>50000.000000</td>\n",
       "      <td>50000.000000</td>\n",
       "      <td>50000.000000</td>\n",
       "    </tr>\n",
       "    <tr>\n",
       "      <th>mean</th>\n",
       "      <td>2017.015700</td>\n",
       "      <td>3.247180</td>\n",
       "      <td>100307.203140</td>\n",
       "      <td>75034.600900</td>\n",
       "      <td>5067.514680</td>\n",
       "    </tr>\n",
       "    <tr>\n",
       "      <th>std</th>\n",
       "      <td>4.324459</td>\n",
       "      <td>1.009078</td>\n",
       "      <td>57941.509344</td>\n",
       "      <td>25998.248882</td>\n",
       "      <td>2856.767125</td>\n",
       "    </tr>\n",
       "    <tr>\n",
       "      <th>min</th>\n",
       "      <td>2010.000000</td>\n",
       "      <td>1.500000</td>\n",
       "      <td>3.000000</td>\n",
       "      <td>30000.000000</td>\n",
       "      <td>100.000000</td>\n",
       "    </tr>\n",
       "    <tr>\n",
       "      <th>25%</th>\n",
       "      <td>2013.000000</td>\n",
       "      <td>2.400000</td>\n",
       "      <td>50178.000000</td>\n",
       "      <td>52434.750000</td>\n",
       "      <td>2588.000000</td>\n",
       "    </tr>\n",
       "    <tr>\n",
       "      <th>50%</th>\n",
       "      <td>2017.000000</td>\n",
       "      <td>3.200000</td>\n",
       "      <td>100388.500000</td>\n",
       "      <td>75011.500000</td>\n",
       "      <td>5087.000000</td>\n",
       "    </tr>\n",
       "    <tr>\n",
       "      <th>75%</th>\n",
       "      <td>2021.000000</td>\n",
       "      <td>4.100000</td>\n",
       "      <td>150630.250000</td>\n",
       "      <td>97628.250000</td>\n",
       "      <td>7537.250000</td>\n",
       "    </tr>\n",
       "    <tr>\n",
       "      <th>max</th>\n",
       "      <td>2024.000000</td>\n",
       "      <td>5.000000</td>\n",
       "      <td>199996.000000</td>\n",
       "      <td>119998.000000</td>\n",
       "      <td>9999.000000</td>\n",
       "    </tr>\n",
       "  </tbody>\n",
       "</table>\n",
       "</div>"
      ],
      "text/plain": [
       "               Year  Engine_Size_L     Mileage_KM      Price_USD  Sales_Volume\n",
       "count  50000.000000   50000.000000   50000.000000   50000.000000  50000.000000\n",
       "mean    2017.015700       3.247180  100307.203140   75034.600900   5067.514680\n",
       "std        4.324459       1.009078   57941.509344   25998.248882   2856.767125\n",
       "min     2010.000000       1.500000       3.000000   30000.000000    100.000000\n",
       "25%     2013.000000       2.400000   50178.000000   52434.750000   2588.000000\n",
       "50%     2017.000000       3.200000  100388.500000   75011.500000   5087.000000\n",
       "75%     2021.000000       4.100000  150630.250000   97628.250000   7537.250000\n",
       "max     2024.000000       5.000000  199996.000000  119998.000000   9999.000000"
      ]
     },
     "metadata": {},
     "output_type": "display_data"
    },
    {
     "data": {
      "text/plain": [
       "'Itens nulos:'"
      ]
     },
     "metadata": {},
     "output_type": "display_data"
    },
    {
     "data": {
      "text/plain": [
       "Model                   0\n",
       "Year                    0\n",
       "Region                  0\n",
       "Color                   0\n",
       "Fuel_Type               0\n",
       "Transmission            0\n",
       "Engine_Size_L           0\n",
       "Mileage_KM              0\n",
       "Price_USD               0\n",
       "Sales_Volume            0\n",
       "Sales_Classification    0\n",
       "dtype: int64"
      ]
     },
     "metadata": {},
     "output_type": "display_data"
    }
   ],
   "source": [
    "df_raw.info()\n",
    "display('Dimensões:', df_raw.shape)\n",
    "display(df_raw.describe())\n",
    "display(\"Itens nulos:\", df_raw.isnull().sum().sort_values(ascending=False))"
   ]
  },
  {
   "cell_type": "markdown",
   "id": "32f5b21f-8d22-497d-bb48-0e01db3c78d7",
   "metadata": {},
   "source": [
    "### Removendo duplicados"
   ]
  },
  {
   "cell_type": "code",
   "execution_count": 8,
   "id": "16a4cbb2-1ac2-4b5c-ace6-6498ded2c53b",
   "metadata": {},
   "outputs": [
    {
     "name": "stdout",
     "output_type": "stream",
     "text": [
      "Duplicatas removidas: 0\n"
     ]
    }
   ],
   "source": [
    "df_clear = df_raw.copy()\n",
    "\n",
    "rows_before = df_clear.shape[0]\n",
    "df_clear.drop_duplicates(inplace=True)\n",
    "rows_after = df_clear.shape[0]\n",
    "print(f'Duplicatas removidas: {rows_before - rows_after}')"
   ]
  },
  {
   "cell_type": "markdown",
   "id": "a7508239-4ceb-4010-b0c8-7dc224a6f54a",
   "metadata": {},
   "source": [
    "### Tratamento para nulos"
   ]
  },
  {
   "cell_type": "code",
   "execution_count": 9,
   "id": "36395c8f-e655-41a3-a0cc-11e22b33ce32",
   "metadata": {},
   "outputs": [],
   "source": [
    "df_clear = df_clear.dropna(subset=[\"Model\"])\n",
    "mlflow.log_param(\"remove-null-Model\", True)\n",
    "\n",
    "df_clear = df_clear.dropna(subset=[\"Year\"])\n",
    "mlflow.log_param(\"remove-null-Year\", True)\n",
    "\n",
    "df_clear = df_clear.dropna(subset=[\"Region\"])\n",
    "mlflow.log_param(\"remove-null-Region\", True)\n",
    "\n",
    "color_mode = df_clear[\"Color\"].mode()[0]\n",
    "mlflow.log_param(\"imput-Color\", \"mode\")\n",
    "\n",
    "fuel_type_mode = df_clear[\"Fuel_Type\"].mode()[0]\n",
    "mlflow.log_param(\"imput-Fuel_Type\", \"mode\")\n",
    "\n",
    "transmission_mode = df_clear[\"Transmission\"].mode()[0]\n",
    "mlflow.log_param(\"imput-Transmission\", \"mode\")\n",
    "\n",
    "engine_size_l_median = df_clear[\"Engine_Size_L\"].median()\n",
    "mlflow.log_param(\"imput-Engine_Size_L\", \"median\")\n",
    "\n",
    "mileage_km_median = df_clear[\"Mileage_KM\"].median()\n",
    "mlflow.log_param(\"imput-Mileage_KM\", \"median\")\n",
    "\n",
    "sales_volume_median = df_clear[\"Sales_Volume\"].median()\n",
    "mlflow.log_param(\"imput-Sales_Volume\", \"median\")\n",
    "\n",
    "sales_classification_mode = df_clear[\"Sales_Classification\"].mode()[0]\n",
    "mlflow.log_param(\"imput-Sales_Classification\", \"mode\")\n",
    "\n",
    "# Aplica os tratamentos\n",
    "coluns_tretament = {\n",
    "    \"Color\": color_mode,\n",
    "    \"Fuel_Type\": fuel_type_mode,\n",
    "    \"Transmission\": transmission_mode,\n",
    "    \"Engine_Size_L\": engine_size_l_median,\n",
    "    \"Mileage_KM\": mileage_km_median,\n",
    "    \"Sales_Volume\": sales_volume_median,\n",
    "    \"Sales_Classification\": sales_classification_mode\n",
    "}\n",
    "df_clear = df_clear.fillna(coluns_tretament)\n",
    "\n",
    "log_artifact(df_clear, \"non-null\")"
   ]
  },
  {
   "cell_type": "markdown",
   "id": "f58946c3-a3d8-45ac-9e78-1c73388cb935",
   "metadata": {},
   "source": [
    "### Transformação de variáveis categoricas usando on hot encoding"
   ]
  },
  {
   "cell_type": "code",
   "execution_count": 10,
   "id": "a791df45-ff05-4020-aafa-eefef82d9bd1",
   "metadata": {},
   "outputs": [],
   "source": [
    "columns_to_get_dummies = [\"Year\",\n",
    "                          \"Region\",\n",
    "                          \"Color\",\n",
    "                          \"Fuel_Type\",\n",
    "                          \"Transmission\",\n",
    "                          \"Sales_Classification\"]\n",
    "df_clear = pd.get_dummies(df_clear, columns=columns_to_get_dummies, prefix=\"dummie\")\n",
    "mlflow.log_param(\"insert-Year\", \"dummies\")\n",
    "mlflow.log_param(\"insert-Region\", \"dummies\")\n",
    "mlflow.log_param(\"insert-Color\", \"dummies\")\n",
    "mlflow.log_param(\"insert-Fuel_Type\", \"dummies\")\n",
    "mlflow.log_param(\"insert-Transmission\", \"dummies\")\n",
    "mlflow.log_param(\"insert-Sales_Classification\", \"dummies\")\n",
    "\n",
    "log_artifact(df_clear, \"transformed_dummies\")"
   ]
  },
  {
   "cell_type": "markdown",
   "id": "8188fbb5-4cfc-4519-af8d-a50ef31a0b07",
   "metadata": {},
   "source": [
    "### Normalização de variáveis numéricas"
   ]
  },
  {
   "cell_type": "code",
   "execution_count": 11,
   "id": "4edb169d-e481-4794-adaf-e9cfff5386fd",
   "metadata": {},
   "outputs": [],
   "source": [
    "# StandardScaler\n",
    "columns_to_scale_std = [\"Engine_Size_L\"]\n",
    "scaled_std_values = StandardScaler().fit_transform(df_clear[columns_to_scale_std])\n",
    "mlflow.log_param(\"normalized-Engine_Size_L\", \"StandardScaler\")\n",
    "\n",
    "std_scaled_columns = [f\"StandardScalerScaled_{x}\" for x in columns_to_scale_std]\n",
    "df_std_scaled_values = pd.DataFrame(scaled_std_values, columns=std_scaled_columns, index=df_clear.index)\n",
    "\n",
    "# MinMaxScaler\n",
    "columns_to_scale_minmax = ['Mileage_KM', 'Price_USD', 'Sales_Volume']\n",
    "scaled_minmax_values = MinMaxScaler().fit_transform(df_clear[columns_to_scale_minmax])\n",
    "\n",
    "mlflow.log_param(\"normalized-Mileage_KM\", \"MinMaxScaler\")\n",
    "mlflow.log_param(\"normalized-Price_USD\", \"MinMaxScaler\")\n",
    "mlflow.log_param(\"normalized-Sales_Volume\", \"MinMaxScaler\")\n",
    "\n",
    "minmax_scaled_columns = [f\"MinMaxScaled_{x}\" for x in columns_to_scale_minmax]\n",
    "df_minmax_scaled_values = pd.DataFrame(scaled_minmax_values, columns=minmax_scaled_columns, index=df_clear.index)\n",
    "\n",
    "df_clear = pd.concat([df_clear, df_minmax_scaled_values, df_std_scaled_values], axis=1)\n",
    "\n",
    "log_artifact(df_clear, \"scaled\")"
   ]
  },
  {
   "cell_type": "markdown",
   "id": "8033a635-52c6-4fb8-b865-031a9c5b7af5",
   "metadata": {},
   "source": [
    "## Armazene esses valores como um artefato dentro do MLFlow"
   ]
  },
  {
   "cell_type": "code",
   "execution_count": 12,
   "id": "f39ff3f2-13b3-4d61-bc74-07a9d8364e85",
   "metadata": {},
   "outputs": [
    {
     "name": "stdout",
     "output_type": "stream",
     "text": [
      "Dataset processado salvo localmente.\n"
     ]
    }
   ],
   "source": [
    "processed_data_path = \"artifacts/dataset_processed.csv\"\n",
    "df_clear.to_csv(processed_data_path, index=False)\n",
    "print(\"Dataset processado salvo localmente.\")\n",
    "\n",
    "mlflow.log_artifact(processed_data_path)\n",
    "mlflow.end_run()"
   ]
  }
 ],
 "metadata": {
  "kernelspec": {
   "display_name": "3.11.9",
   "language": "python",
   "name": "python3"
  },
  "language_info": {
   "codemirror_mode": {
    "name": "ipython",
    "version": 3
   },
   "file_extension": ".py",
   "mimetype": "text/x-python",
   "name": "python",
   "nbconvert_exporter": "python",
   "pygments_lexer": "ipython3",
   "version": "3.11.9"
  }
 },
 "nbformat": 4,
 "nbformat_minor": 5
}
