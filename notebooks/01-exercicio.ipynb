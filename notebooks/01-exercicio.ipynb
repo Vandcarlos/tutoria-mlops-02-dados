{
 "cells": [
  {
   "cell_type": "markdown",
   "id": "e54ba0a8-ea33-4274-b227-52e3597b120d",
   "metadata": {
    "scrolled": true
   },
   "source": [
    "# Importando bibliotecas"
   ]
  },
  {
   "cell_type": "code",
   "execution_count": 62,
   "id": "5d8297b2-1576-4099-9a89-4fdc6e3b15d9",
   "metadata": {},
   "outputs": [],
   "source": [
    "import mlflow\n",
    "import kagglehub\n",
    "import os\n",
    "\n",
    "import pandas as pd\n",
    "import numpy as np\n",
    "import seaborn as sns\n",
    "import matplotlib.pyplot as plt\n",
    "\n",
    "from sklearn.preprocessing import MinMaxScaler"
   ]
  },
  {
   "cell_type": "markdown",
   "id": "dc768add-619a-4f21-8056-2c9298e1c429",
   "metadata": {},
   "source": [
    "## Configurar e iniciar o mlflow"
   ]
  },
  {
   "cell_type": "code",
   "execution_count": 63,
   "id": "644c0ae2-8b1d-4325-af6f-a4502817bc40",
   "metadata": {},
   "outputs": [
    {
     "name": "stdout",
     "output_type": "stream",
     "text": [
      "ERROR! Session/line number was not unique in database. History logging moved to new session 7\n"
     ]
    },
    {
     "ename": "Exception",
     "evalue": "Run with UUID 1c682df7841345ff86cb29898e1244f9 is already active. To start a new run, first end the current run with mlflow.end_run(). To start a nested run, call start_run with nested=True",
     "output_type": "error",
     "traceback": [
      "\u001b[31m---------------------------------------------------------------------------\u001b[39m",
      "\u001b[31mException\u001b[39m                                 Traceback (most recent call last)",
      "\u001b[36mCell\u001b[39m\u001b[36m \u001b[39m\u001b[32mIn[63]\u001b[39m\u001b[32m, line 2\u001b[39m\n\u001b[32m      1\u001b[39m mlflow.set_experiment(\u001b[33m\"\u001b[39m\u001b[33mkaggle-9000-movies\u001b[39m\u001b[33m\"\u001b[39m)\n\u001b[32m----> \u001b[39m\u001b[32m2\u001b[39m \u001b[43mmlflow\u001b[49m\u001b[43m.\u001b[49m\u001b[43mstart_run\u001b[49m\u001b[43m(\u001b[49m\u001b[43mrun_name\u001b[49m\u001b[43m=\u001b[49m\u001b[33;43m\"\u001b[39;49m\u001b[33;43mExploratory-CH01\u001b[39;49m\u001b[33;43m\"\u001b[39;49m\u001b[43m)\u001b[49m\n\u001b[32m      3\u001b[39m mlflow.set_tag(\u001b[33m\"\u001b[39m\u001b[33mphase\u001b[39m\u001b[33m\"\u001b[39m, \u001b[33m\"\u001b[39m\u001b[33mEDA\u001b[39m\u001b[33m\"\u001b[39m)\n",
      "\u001b[36mFile \u001b[39m\u001b[32m~/code/tutoria-mlops/tutoria-mlops-02-dados/.venv/lib/python3.11/site-packages/mlflow/tracking/fluent.py:380\u001b[39m, in \u001b[36mstart_run\u001b[39m\u001b[34m(run_id, experiment_id, run_name, nested, parent_run_id, tags, description, log_system_metrics)\u001b[39m\n\u001b[32m    378\u001b[39m experiment_id = \u001b[38;5;28mstr\u001b[39m(experiment_id) \u001b[38;5;28;01mif\u001b[39;00m \u001b[38;5;28misinstance\u001b[39m(experiment_id, \u001b[38;5;28mint\u001b[39m) \u001b[38;5;28;01melse\u001b[39;00m experiment_id\n\u001b[32m    379\u001b[39m \u001b[38;5;28;01mif\u001b[39;00m \u001b[38;5;28mlen\u001b[39m(active_run_stack) > \u001b[32m0\u001b[39m \u001b[38;5;129;01mand\u001b[39;00m \u001b[38;5;129;01mnot\u001b[39;00m nested:\n\u001b[32m--> \u001b[39m\u001b[32m380\u001b[39m     \u001b[38;5;28;01mraise\u001b[39;00m \u001b[38;5;167;01mException\u001b[39;00m(\n\u001b[32m    381\u001b[39m         (\n\u001b[32m    382\u001b[39m             \u001b[33m\"\u001b[39m\u001b[33mRun with UUID \u001b[39m\u001b[38;5;132;01m{}\u001b[39;00m\u001b[33m is already active. To start a new run, first end the \u001b[39m\u001b[33m\"\u001b[39m\n\u001b[32m    383\u001b[39m             + \u001b[33m\"\u001b[39m\u001b[33mcurrent run with mlflow.end_run(). To start a nested \u001b[39m\u001b[33m\"\u001b[39m\n\u001b[32m    384\u001b[39m             + \u001b[33m\"\u001b[39m\u001b[33mrun, call start_run with nested=True\u001b[39m\u001b[33m\"\u001b[39m\n\u001b[32m    385\u001b[39m         ).format(active_run_stack[\u001b[32m0\u001b[39m].info.run_id)\n\u001b[32m    386\u001b[39m     )\n\u001b[32m    387\u001b[39m client = MlflowClient()\n\u001b[32m    388\u001b[39m \u001b[38;5;28;01mif\u001b[39;00m run_id:\n",
      "\u001b[31mException\u001b[39m: Run with UUID 1c682df7841345ff86cb29898e1244f9 is already active. To start a new run, first end the current run with mlflow.end_run(). To start a nested run, call start_run with nested=True"
     ]
    }
   ],
   "source": [
    "mlflow.set_experiment(\"kaggle-9000-movies\")\n",
    "mlflow.start_run(run_name=\"Exploratory-CH01\")\n",
    "mlflow.set_tag(\"phase\", \"EDA\")\n"
   ]
  },
  {
   "cell_type": "markdown",
   "id": "5a70561c-c27e-4f58-8115-c6bebab0b2f5",
   "metadata": {},
   "source": [
    "## Utilitários do mlflow"
   ]
  },
  {
   "cell_type": "code",
   "execution_count": null,
   "id": "2b5d584a-cd96-4e06-8088-f41fa7c2a9ef",
   "metadata": {},
   "outputs": [],
   "source": [
    "artifacts_parquets_path = \"artifacts_parquets\"\n",
    "os.makedirs(artifacts_parquets_path, exist_ok=True)  # cria se não existir\n",
    "\n",
    "def log_artifact(df: pd.DataFrame, name: str):\n",
    "    path = os.path.join(artifacts_parquets_path, f\"{name}.parquet\")\n",
    "    df.to_parquet(path, index=False)\n",
    "    mlflow.log_artifact(path, artifact_path=\"data\")"
   ]
  },
  {
   "cell_type": "markdown",
   "id": "613850c5-7c23-4698-b7cb-d99f72c4010d",
   "metadata": {},
   "source": [
    "# Baixar data set"
   ]
  },
  {
   "cell_type": "code",
   "execution_count": null,
   "id": "61711cbe-391d-4a51-8786-9beef7ee6e18",
   "metadata": {},
   "outputs": [],
   "source": [
    "# Download latest version\n",
    "mlflow.log_param(\"dataset\", \"disham993/9000-movies\")\n",
    "dataset_path = kagglehub.dataset_download(\"disham993/9000-movies-dataset\")\n",
    "print(\"Path do dataset:\", dataset_path)\n",
    "print(\"Arquivos do dataset:\", os.listdir(dataset_path))\n",
    "dataset_csv_path = os.path.join(dataset_path, os.listdir(dataset_path)[0])\n",
    "print(\"Path do csv do dataset:\", dataset_csv_path)"
   ]
  },
  {
   "cell_type": "markdown",
   "id": "6c30ed10-c66c-46f9-ad2e-11e036fc8f3b",
   "metadata": {},
   "source": [
    "## Carrega dataset"
   ]
  },
  {
   "cell_type": "code",
   "execution_count": null,
   "id": "c5b39134-ab0f-4401-af58-dabbf9928f8e",
   "metadata": {},
   "outputs": [],
   "source": [
    "df_raw = pd.read_csv(dataset_csv_path, engine=\"python\")\n",
    "df_raw.head()\n",
    "\n",
    "log_artifact(df_raw, \"raw\")"
   ]
  },
  {
   "cell_type": "markdown",
   "id": "87914d27-d7c1-4b75-abc8-5c8c2398b559",
   "metadata": {},
   "source": [
    "## Infos do dataset?"
   ]
  },
  {
   "cell_type": "code",
   "execution_count": null,
   "id": "782a0337-b69d-48a3-b3a3-3e264a6a53cb",
   "metadata": {},
   "outputs": [],
   "source": [
    "df_raw.info()\n",
    "df_raw.shape"
   ]
  },
  {
   "cell_type": "markdown",
   "id": "94594f5c-2b43-4ae2-a1a4-5412cdf76e35",
   "metadata": {},
   "source": [
    "## Com isso ja podemos responder as seguintes perguntas\n",
    "1) Qual tamanho do DataSet? 691.8 kb\n",
    "2) Quantas linhas? 9837\n",
    "3) Quantas colunas? 9\n",
    "4) Qual o tipo de variável de cada coluna? A coluna \"Popularity\" é float64, as outras 8 colunas são object"
   ]
  },
  {
   "cell_type": "markdown",
   "id": "bf012b8d-a472-4bac-bc7d-5942d242619f",
   "metadata": {},
   "source": [
    "## Corrigindo tipos numericos"
   ]
  },
  {
   "cell_type": "code",
   "execution_count": null,
   "id": "e59c92fa-6641-4594-9a91-fec2a960df91",
   "metadata": {},
   "outputs": [],
   "source": [
    "df_clear = df_raw.copy()\n",
    "df_clear[\"Vote_Count\"] = pd.to_numeric(df_clear[\"Vote_Count\"], errors=\"coerce\")\n",
    "mlflow.log_param(\"convert-Vote_Count\", \"numeric\")\n",
    "\n",
    "df_clear[\"Vote_Average\"] = pd.to_numeric(df_clear[\"Vote_Average\"], errors=\"coerce\")\n",
    "mlflow.log_param(\"convert-Vote_Average\", \"numeric\")\n",
    "\n",
    "log_artifact(df_clear, \"converted\")\n",
    "\n",
    "df_clear.info()"
   ]
  },
  {
   "cell_type": "markdown",
   "id": "571f3f0e-0173-40dc-945c-7f739826e296",
   "metadata": {},
   "source": [
    "### Pegando os com maior numero de votação"
   ]
  },
  {
   "cell_type": "code",
   "execution_count": null,
   "id": "19404d1c-68c8-4018-a854-3446aa06d80d",
   "metadata": {},
   "outputs": [],
   "source": [
    "max_vote_count = df_clear[\"Vote_Count\"].max()\n",
    "print(\"Maior numero de votos:\", max_vote_count)\n",
    "top_voted_count = df_clear[df_clear[\"Vote_Count\"] == max_vote_count]\n",
    "print(\"Filmes com maior quantidade de votação:\", top_voted_count[\"Title\"])"
   ]
  },
  {
   "cell_type": "markdown",
   "id": "ba98d988-4d74-4e76-9fd2-211ee4b6d585",
   "metadata": {},
   "source": [
    " 5) Qual o filme com maior número de votaçôes? Interception, linha 380"
   ]
  },
  {
   "cell_type": "markdown",
   "id": "e1580df4-cbb4-4e02-bacb-31d20ddee2b0",
   "metadata": {},
   "source": [
    "## Pegando filme com maior nota"
   ]
  },
  {
   "cell_type": "code",
   "execution_count": null,
   "id": "69f04202-a39f-4f1f-9ecf-9bba1625a7ab",
   "metadata": {},
   "outputs": [],
   "source": [
    "max_vote_average = df_clear[\"Vote_Average\"].max()\n",
    "print(\"Maior nota:\", max_vote_average)\n",
    "df_max_voted_average = df_clear[df_clear[\"Vote_Average\"] == max_vote_average]\n",
    "print(\"Filmes com maior nota: \\n\", df_max_voted_average[\"Title\"])\n",
    "\n",
    "if len(df_max_voted_average) > 1:\n",
    "    max_vote_count_with_max_average = df_max_voted_average[\"Vote_Count\"].max()\n",
    "    print(\"Maior numero de votos entre os com maior nota:\", max_vote_count_with_max_average)\n",
    "    df_max_voted_average_with_max_average = top_voted_average[df_max_voted_average[\"Vote_Count\"] == max_vote_count_with_max_average]\n",
    "    print(\"Filme com maior numero de votos entres os com maior nota:\\n\", df_max_voted_average_with_max_average[\"Title\"])"
   ]
  },
  {
   "cell_type": "markdown",
   "id": "ea56af1a-f1e8-411e-96d6-7fde6f182c90",
   "metadata": {},
   "source": [
    "6) Qual filme teve a maior nota (critério de desempate é o filme com mais votos)? Kung Fu Master Huo Yuanjia, "
   ]
  },
  {
   "cell_type": "markdown",
   "id": "a7508239-4ceb-4010-b0c8-7dc224a6f54a",
   "metadata": {},
   "source": [
    "## Verificando valores nulos"
   ]
  },
  {
   "cell_type": "code",
   "execution_count": null,
   "id": "36395c8f-e655-41a3-a0cc-11e22b33ce32",
   "metadata": {},
   "outputs": [],
   "source": [
    "display(\"Itens nulos:\", df_clear.isnull().sum().sort_values(ascending=False))\n",
    "# Remove filmes sem titulo\n",
    "df_clear = df_clear.dropna(subset=[\"Title\"])\n",
    "mlflow.log_param(\"remove-null-Title\", True)\n",
    "\n",
    "#Remove filmes sem genero\n",
    "df_clear = df_clear.dropna(subset=[\"Genre\"])\n",
    "mlflow.log_param(\"remove-null-Genre\", True)\n",
    "\n",
    "# Pega tratamentos para colunas restantes\n",
    "original_language_mode = df_clear[\"Original_Language\"].mode()[0]\n",
    "mlflow.log_param(\"imput-Original_Language\", \"mode\")\n",
    "\n",
    "vote_count_median = df_clear[\"Vote_Count\"].median()\n",
    "mlflow.log_param(\"imput-Vote_Count\", \"median\")\n",
    "\n",
    "vote_average_median = df_clear[\"Vote_Average\"].median()\n",
    "mlflow.log_param(\"imput-Vote_Average\", \"median\")\n",
    "\n",
    "popularity_median = df_clear[\"Popularity\"].median()\n",
    "mlflow.log_param(\"imput-Popularity\", \"median\")\n",
    "\n",
    "# Aplica os tratamentos\n",
    "coluns_tretament = {\n",
    "    \"Original_Language\": original_language_mode,\n",
    "    \"Vote_Count\": vote_count_median,\n",
    "    \"Vote_Average\": vote_average_median,\n",
    "    \"Popularity\": popularity_median,\n",
    "    \"Poster_Url\": \"\"\n",
    "}\n",
    "df_clear = df_clear.fillna(coluns_tretament)\n",
    "\n",
    "log_artifact(df_clear, \"non-null\")\n",
    "\n",
    "display(\"Itens nulos:\", df_clear.isnull().sum().sort_values(ascending=False))"
   ]
  },
  {
   "cell_type": "markdown",
   "id": "64c43c5d-fd24-4a5f-baab-716818a1aac9",
   "metadata": {},
   "source": [
    "7) Existem valores nulos? Se sim, qual tratamento irá realizar? (Se não temos nome de algum filme, melhor nem considerar):\n",
    "   - Removido as linhas de titulos e generos nulos\n",
    "   - Aplicado moda para o idioma original\n",
    "   - Aplicado mediana para o numero de votos, nota e popularidade\n",
    "   - Deixado em branco a ulr do poster"
   ]
  },
  {
   "cell_type": "markdown",
   "id": "f58946c3-a3d8-45ac-9e78-1c73388cb935",
   "metadata": {},
   "source": [
    "8) Transforme as variaveis categóricas de linguagem e genero em númericas (utilize dummy)"
   ]
  },
  {
   "cell_type": "code",
   "execution_count": null,
   "id": "a791df45-ff05-4020-aafa-eefef82d9bd1",
   "metadata": {},
   "outputs": [],
   "source": [
    "# Monta os dummies para o idioma\n",
    "df_lang_dummies = pd.get_dummies(df_clear[\"Original_Language\"], prefix = \"lang_dummies\")\n",
    "\n",
    "# Splita os generos, transformando em array\n",
    "df_clear[\"Genre\"] = df_clear[\"Genre\"].str.split(\",\\s*\")\n",
    "mlflow.log_param(\"transform-Genre\", \"split_by_comma\")\n",
    "\n",
    "# # Monta os dummies para o genero\n",
    "df_genres_dummies = df_clear[\"Genre\"].str.join('|').str.get_dummies()\n",
    "\n",
    "# # Junta as colunas dummies\n",
    "df_clear = pd.concat([df_clear, df_lang_dummies, df_genres_dummies], axis=1)\n",
    "mlflow.log_param(\"insert-Original_Language\", \"dummies\")\n",
    "mlflow.log_param(\"insert-Genre\", \"dummies\")\n",
    "\n",
    "log_artifact(df_clear, \"transformed\")"
   ]
  },
  {
   "cell_type": "markdown",
   "id": "8188fbb5-4cfc-4519-af8d-a50ef31a0b07",
   "metadata": {},
   "source": [
    "# Normalize as variaveis numéricas"
   ]
  },
  {
   "cell_type": "code",
   "execution_count": null,
   "id": "4edb169d-e481-4794-adaf-e9cfff5386fd",
   "metadata": {},
   "outputs": [],
   "source": [
    "minmax = MinMaxScaler()\n",
    "columns_to_scale = [\"Popularity\", \"Vote_Count\", \"Vote_Average\"]\n",
    "scaled_values = minmax.fit_transform(df_clear[columns_to_scale])\n",
    "mlflow.log_param(\"normalized-Popularity\", \"MinMaxScaler\")\n",
    "mlflow.log_param(\"normalized-Vote_Count\", \"MinMaxScaler\")\n",
    "mlflow.log_param(\"normalized-Vote_Average\", \"MinMaxScaler\")\n",
    "\n",
    "scaled_columns = [f\"Scaled_{x}\" for x in columns_to_scale]\n",
    "df_scaled_values = pd.DataFrame(scaled_values, columns=scaled_columns, index=df_clear.index)\n",
    "\n",
    "df_clear = pd.concat([df_clear, df_scaled_values], axis=1)\n",
    "\n",
    "log_artifact(df_clear, \"scaled\")"
   ]
  },
  {
   "cell_type": "markdown",
   "id": "8033a635-52c6-4fb8-b865-031a9c5b7af5",
   "metadata": {},
   "source": [
    "## Armazene esses valores como um artefato dentro do MLFlow"
   ]
  },
  {
   "cell_type": "code",
   "execution_count": null,
   "id": "f39ff3f2-13b3-4d61-bc74-07a9d8364e85",
   "metadata": {},
   "outputs": [],
   "source": [
    "processed_data_path = \"9000-movies-dataset_processed.csv\"\n",
    "df_clear.to_csv(processed_data_path, index=False)\n",
    "print(\"Dataset processado salvo localmente.\")\n",
    "\n",
    "mlflow.log_artifact(processed_data_path)\n",
    "mlflow.end_run()"
   ]
  },
  {
   "cell_type": "markdown",
   "id": "0ab8aaa7-c1fe-4596-be8a-3490fea02b4a",
   "metadata": {},
   "source": [
    "## Quais insights é possivel obter desses dados?\n",
    "- A maioria dos files tem idioma original em ingles"
   ]
  },
  {
   "cell_type": "code",
   "execution_count": null,
   "id": "ac08630a-3d26-4875-ba7b-95e7c8be6c14",
   "metadata": {},
   "outputs": [],
   "source": []
  }
 ],
 "metadata": {
  "kernelspec": {
   "display_name": "Python (.venv)",
   "language": "python",
   "name": ".venv"
  },
  "language_info": {
   "codemirror_mode": {
    "name": "ipython",
    "version": 3
   },
   "file_extension": ".py",
   "mimetype": "text/x-python",
   "name": "python",
   "nbconvert_exporter": "python",
   "pygments_lexer": "ipython3",
   "version": "3.11.9"
  }
 },
 "nbformat": 4,
 "nbformat_minor": 5
}
